{
 "cells": [
  {
   "cell_type": "code",
   "execution_count": 13,
   "id": "ce907dfa",
   "metadata": {},
   "outputs": [
    {
     "name": "stdout",
     "output_type": "stream",
     "text": [
      "Original Review: The movie was fantastic! The acting was superb and the plot was engaging.\n",
      "Tokenized Review: ['The', 'movie', 'was', 'fantastic', '!', 'The', 'acting', 'was', 'superb', 'and', 'the', 'plot', 'was', 'engaging', '.']\n"
     ]
    }
   ],
   "source": [
    "import nltk\n",
    "from nltk.tokenize import word_tokenize\n",
    "\n",
    "# Sample review\n",
    "review = \"The movie was fantastic! The acting was superb and the plot was engaging.\"\n",
    "\n",
    "# Tokenize the review\n",
    "tokens = word_tokenize(review)\n",
    "\n",
    "# Print the tokens\n",
    "print(\"Original Review:\", review)\n",
    "print(\"Tokenized Review:\", tokens)"
   ]
  },
  {
   "cell_type": "code",
   "execution_count": 14,
   "id": "5de27415",
   "metadata": {},
   "outputs": [
    {
     "name": "stdout",
     "output_type": "stream",
     "text": [
      "Original Review: The movie was fantastic! The acting was superb and the plot was engaging.\n",
      "Lowercase Review: the movie was fantastic! the acting was superb and the plot was engaging.\n"
     ]
    }
   ],
   "source": [
    "# Sample review\n",
    "review = \"The movie was fantastic! The acting was superb and the plot was engaging.\"\n",
    "\n",
    "# Convert the review to lowercase\n",
    "lowercase_review = review.lower()\n",
    "\n",
    "# Print the lowercase review\n",
    "print(\"Original Review:\", review)\n",
    "print(\"Lowercase Review:\", lowercase_review)"
   ]
  },
  {
   "cell_type": "code",
   "execution_count": 15,
   "id": "85a3bc58",
   "metadata": {},
   "outputs": [
    {
     "name": "stdout",
     "output_type": "stream",
     "text": [
      "Original Review: The movie was fantastic! The acting was superb and the plot was engaging.\n",
      "Cleaned Review: The movie was fantastic The acting was superb and the plot was engaging\n"
     ]
    }
   ],
   "source": [
    "import string\n",
    "\n",
    "# Sample review\n",
    "review = \"The movie was fantastic! The acting was superb and the plot was engaging.\"\n",
    "\n",
    "# Define punctuation characters\n",
    "punctuation_chars = string.punctuation\n",
    "\n",
    "# Remove punctuation from the review\n",
    "cleaned_review = review.translate(str.maketrans('', '', punctuation_chars))\n",
    "\n",
    "# Print the cleaned review\n",
    "print(\"Original Review:\", review)\n",
    "print(\"Cleaned Review:\", cleaned_review)"
   ]
  },
  {
   "cell_type": "code",
   "execution_count": 16,
   "id": "69c87bb5",
   "metadata": {},
   "outputs": [
    {
     "name": "stdout",
     "output_type": "stream",
     "text": [
      "Original Review: The movie was fantastic! The acting was superb and the plot was engaging.\n",
      "Review after Removing Stopwords: movie fantastic ! acting superb plot engaging .\n"
     ]
    },
    {
     "name": "stderr",
     "output_type": "stream",
     "text": [
      "[nltk_data] Downloading package stopwords to\n",
      "[nltk_data]     C:\\Users\\Acer\\AppData\\Roaming\\nltk_data...\n",
      "[nltk_data]   Package stopwords is already up-to-date!\n",
      "[nltk_data] Downloading package punkt to\n",
      "[nltk_data]     C:\\Users\\Acer\\AppData\\Roaming\\nltk_data...\n",
      "[nltk_data]   Package punkt is already up-to-date!\n"
     ]
    }
   ],
   "source": [
    "import nltk\n",
    "from nltk.corpus import stopwords\n",
    "from nltk.tokenize import word_tokenize\n",
    "\n",
    "# Download stopwords if not already downloaded\n",
    "nltk.download('stopwords')\n",
    "nltk.download('punkt')\n",
    "\n",
    "# Sample review\n",
    "review = \"The movie was fantastic! The acting was superb and the plot was engaging.\"\n",
    "\n",
    "# Tokenize the review\n",
    "tokens = word_tokenize(review)\n",
    "\n",
    "# Get English stopwords\n",
    "stop_words = set(stopwords.words('english'))\n",
    "\n",
    "# Remove stopwords from the review\n",
    "filtered_tokens = [word for word in tokens if word.lower() not in stop_words]\n",
    "\n",
    "# Join the filtered tokens back into a string\n",
    "filtered_review = ' '.join(filtered_tokens)\n",
    "\n",
    "# Print the original and filtered review\n",
    "print(\"Original Review:\", review)\n",
    "print(\"Review after Removing Stopwords:\", filtered_review)"
   ]
  },
  {
   "cell_type": "code",
   "execution_count": 17,
   "id": "5578eb49",
   "metadata": {},
   "outputs": [
    {
     "name": "stdout",
     "output_type": "stream",
     "text": [
      "Original Review: The movie was fantastic! The acting was superb and the plot was engaging.\n",
      "Review after Stemming: the movi wa fantast ! the act wa superb and the plot wa engag .\n"
     ]
    },
    {
     "name": "stderr",
     "output_type": "stream",
     "text": [
      "[nltk_data] Downloading package punkt to\n",
      "[nltk_data]     C:\\Users\\Acer\\AppData\\Roaming\\nltk_data...\n",
      "[nltk_data]   Package punkt is already up-to-date!\n"
     ]
    }
   ],
   "source": [
    "import nltk\n",
    "from nltk.tokenize import word_tokenize\n",
    "from nltk.stem import PorterStemmer\n",
    "\n",
    "# Download NLTK resources (if not already downloaded)\n",
    "nltk.download('punkt')\n",
    "\n",
    "# Sample review\n",
    "review = \"The movie was fantastic! The acting was superb and the plot was engaging.\"\n",
    "\n",
    "# Tokenize the review\n",
    "tokens = word_tokenize(review)\n",
    "\n",
    "# Initialize the PorterStemmer\n",
    "porter = PorterStemmer()\n",
    "\n",
    "# Apply stemming to each token\n",
    "stemmed_tokens = [porter.stem(word) for word in tokens]\n",
    "\n",
    "# Join the stemmed tokens back into a string\n",
    "stemmed_review = ' '.join(stemmed_tokens)\n",
    "\n",
    "# Print the original and stemmed review\n",
    "print(\"Original Review:\", review)\n",
    "print(\"Review after Stemming:\", stemmed_review)"
   ]
  },
  {
   "cell_type": "code",
   "execution_count": 18,
   "id": "de3c74be",
   "metadata": {},
   "outputs": [
    {
     "name": "stdout",
     "output_type": "stream",
     "text": [
      "Requirement already satisfied: spacy in c:\\users\\acer\\appdata\\local\\packages\\pythonsoftwarefoundation.python.3.11_qbz5n2kfra8p0\\localcache\\local-packages\\python311\\site-packages (3.7.2)\n",
      "Requirement already satisfied: spacy-legacy<3.1.0,>=3.0.11 in c:\\users\\acer\\appdata\\local\\packages\\pythonsoftwarefoundation.python.3.11_qbz5n2kfra8p0\\localcache\\local-packages\\python311\\site-packages (from spacy) (3.0.12)\n",
      "Requirement already satisfied: spacy-loggers<2.0.0,>=1.0.0 in c:\\users\\acer\\appdata\\local\\packages\\pythonsoftwarefoundation.python.3.11_qbz5n2kfra8p0\\localcache\\local-packages\\python311\\site-packages (from spacy) (1.0.5)\n",
      "Requirement already satisfied: murmurhash<1.1.0,>=0.28.0 in c:\\users\\acer\\appdata\\local\\packages\\pythonsoftwarefoundation.python.3.11_qbz5n2kfra8p0\\localcache\\local-packages\\python311\\site-packages (from spacy) (1.0.10)\n",
      "Requirement already satisfied: cymem<2.1.0,>=2.0.2 in c:\\users\\acer\\appdata\\local\\packages\\pythonsoftwarefoundation.python.3.11_qbz5n2kfra8p0\\localcache\\local-packages\\python311\\site-packages (from spacy) (2.0.8)\n",
      "Requirement already satisfied: preshed<3.1.0,>=3.0.2 in c:\\users\\acer\\appdata\\local\\packages\\pythonsoftwarefoundation.python.3.11_qbz5n2kfra8p0\\localcache\\local-packages\\python311\\site-packages (from spacy) (3.0.9)\n",
      "Requirement already satisfied: thinc<8.3.0,>=8.1.8 in c:\\users\\acer\\appdata\\local\\packages\\pythonsoftwarefoundation.python.3.11_qbz5n2kfra8p0\\localcache\\local-packages\\python311\\site-packages (from spacy) (8.2.2)\n",
      "Requirement already satisfied: wasabi<1.2.0,>=0.9.1 in c:\\users\\acer\\appdata\\local\\packages\\pythonsoftwarefoundation.python.3.11_qbz5n2kfra8p0\\localcache\\local-packages\\python311\\site-packages (from spacy) (1.1.2)\n",
      "Requirement already satisfied: srsly<3.0.0,>=2.4.3 in c:\\users\\acer\\appdata\\local\\packages\\pythonsoftwarefoundation.python.3.11_qbz5n2kfra8p0\\localcache\\local-packages\\python311\\site-packages (from spacy) (2.4.8)\n",
      "Requirement already satisfied: catalogue<2.1.0,>=2.0.6 in c:\\users\\acer\\appdata\\local\\packages\\pythonsoftwarefoundation.python.3.11_qbz5n2kfra8p0\\localcache\\local-packages\\python311\\site-packages (from spacy) (2.0.10)\n",
      "Requirement already satisfied: weasel<0.4.0,>=0.1.0 in c:\\users\\acer\\appdata\\local\\packages\\pythonsoftwarefoundation.python.3.11_qbz5n2kfra8p0\\localcache\\local-packages\\python311\\site-packages (from spacy) (0.3.4)\n",
      "Requirement already satisfied: typer<0.10.0,>=0.3.0 in c:\\users\\acer\\appdata\\local\\packages\\pythonsoftwarefoundation.python.3.11_qbz5n2kfra8p0\\localcache\\local-packages\\python311\\site-packages (from spacy) (0.9.0)\n",
      "Requirement already satisfied: smart-open<7.0.0,>=5.2.1 in c:\\users\\acer\\appdata\\local\\packages\\pythonsoftwarefoundation.python.3.11_qbz5n2kfra8p0\\localcache\\local-packages\\python311\\site-packages (from spacy) (6.4.0)\n",
      "Requirement already satisfied: tqdm<5.0.0,>=4.38.0 in c:\\users\\acer\\appdata\\local\\packages\\pythonsoftwarefoundation.python.3.11_qbz5n2kfra8p0\\localcache\\local-packages\\python311\\site-packages (from spacy) (4.66.1)\n",
      "Requirement already satisfied: requests<3.0.0,>=2.13.0 in c:\\users\\acer\\appdata\\local\\packages\\pythonsoftwarefoundation.python.3.11_qbz5n2kfra8p0\\localcache\\local-packages\\python311\\site-packages (from spacy) (2.31.0)\n",
      "Requirement already satisfied: pydantic!=1.8,!=1.8.1,<3.0.0,>=1.7.4 in c:\\users\\acer\\appdata\\local\\packages\\pythonsoftwarefoundation.python.3.11_qbz5n2kfra8p0\\localcache\\local-packages\\python311\\site-packages (from spacy) (2.6.0)\n",
      "Requirement already satisfied: jinja2 in c:\\users\\acer\\appdata\\local\\packages\\pythonsoftwarefoundation.python.3.11_qbz5n2kfra8p0\\localcache\\local-packages\\python311\\site-packages (from spacy) (3.1.3)\n",
      "Requirement already satisfied: setuptools in c:\\program files\\windowsapps\\pythonsoftwarefoundation.python.3.11_3.11.2032.0_x64__qbz5n2kfra8p0\\lib\\site-packages (from spacy) (65.5.0)\n",
      "Requirement already satisfied: packaging>=20.0 in c:\\users\\acer\\appdata\\local\\packages\\pythonsoftwarefoundation.python.3.11_qbz5n2kfra8p0\\localcache\\local-packages\\python311\\site-packages (from spacy) (23.2)\n",
      "Requirement already satisfied: langcodes<4.0.0,>=3.2.0 in c:\\users\\acer\\appdata\\local\\packages\\pythonsoftwarefoundation.python.3.11_qbz5n2kfra8p0\\localcache\\local-packages\\python311\\site-packages (from spacy) (3.3.0)\n",
      "Requirement already satisfied: numpy>=1.19.0 in c:\\users\\acer\\appdata\\local\\packages\\pythonsoftwarefoundation.python.3.11_qbz5n2kfra8p0\\localcache\\local-packages\\python311\\site-packages (from spacy) (1.26.3)\n",
      "Requirement already satisfied: annotated-types>=0.4.0 in c:\\users\\acer\\appdata\\local\\packages\\pythonsoftwarefoundation.python.3.11_qbz5n2kfra8p0\\localcache\\local-packages\\python311\\site-packages (from pydantic!=1.8,!=1.8.1,<3.0.0,>=1.7.4->spacy) (0.6.0)\n",
      "Requirement already satisfied: pydantic-core==2.16.1 in c:\\users\\acer\\appdata\\local\\packages\\pythonsoftwarefoundation.python.3.11_qbz5n2kfra8p0\\localcache\\local-packages\\python311\\site-packages (from pydantic!=1.8,!=1.8.1,<3.0.0,>=1.7.4->spacy) (2.16.1)\n",
      "Requirement already satisfied: typing-extensions>=4.6.1 in c:\\users\\acer\\appdata\\local\\packages\\pythonsoftwarefoundation.python.3.11_qbz5n2kfra8p0\\localcache\\local-packages\\python311\\site-packages (from pydantic!=1.8,!=1.8.1,<3.0.0,>=1.7.4->spacy) (4.9.0)\n",
      "Requirement already satisfied: charset-normalizer<4,>=2 in c:\\users\\acer\\appdata\\local\\packages\\pythonsoftwarefoundation.python.3.11_qbz5n2kfra8p0\\localcache\\local-packages\\python311\\site-packages (from requests<3.0.0,>=2.13.0->spacy) (3.3.2)\n",
      "Requirement already satisfied: idna<4,>=2.5 in c:\\users\\acer\\appdata\\local\\packages\\pythonsoftwarefoundation.python.3.11_qbz5n2kfra8p0\\localcache\\local-packages\\python311\\site-packages (from requests<3.0.0,>=2.13.0->spacy) (3.6)\n",
      "Requirement already satisfied: urllib3<3,>=1.21.1 in c:\\users\\acer\\appdata\\local\\packages\\pythonsoftwarefoundation.python.3.11_qbz5n2kfra8p0\\localcache\\local-packages\\python311\\site-packages (from requests<3.0.0,>=2.13.0->spacy) (2.1.0)\n",
      "Requirement already satisfied: certifi>=2017.4.17 in c:\\users\\acer\\appdata\\local\\packages\\pythonsoftwarefoundation.python.3.11_qbz5n2kfra8p0\\localcache\\local-packages\\python311\\site-packages (from requests<3.0.0,>=2.13.0->spacy) (2023.11.17)\n",
      "Requirement already satisfied: blis<0.8.0,>=0.7.8 in c:\\users\\acer\\appdata\\local\\packages\\pythonsoftwarefoundation.python.3.11_qbz5n2kfra8p0\\localcache\\local-packages\\python311\\site-packages (from thinc<8.3.0,>=8.1.8->spacy) (0.7.11)\n",
      "Requirement already satisfied: confection<1.0.0,>=0.0.1 in c:\\users\\acer\\appdata\\local\\packages\\pythonsoftwarefoundation.python.3.11_qbz5n2kfra8p0\\localcache\\local-packages\\python311\\site-packages (from thinc<8.3.0,>=8.1.8->spacy) (0.1.4)\n",
      "Requirement already satisfied: colorama in c:\\users\\acer\\appdata\\local\\packages\\pythonsoftwarefoundation.python.3.11_qbz5n2kfra8p0\\localcache\\local-packages\\python311\\site-packages (from tqdm<5.0.0,>=4.38.0->spacy) (0.4.6)\n",
      "Requirement already satisfied: click<9.0.0,>=7.1.1 in c:\\users\\acer\\appdata\\local\\packages\\pythonsoftwarefoundation.python.3.11_qbz5n2kfra8p0\\localcache\\local-packages\\python311\\site-packages (from typer<0.10.0,>=0.3.0->spacy) (8.1.7)\n",
      "Requirement already satisfied: cloudpathlib<0.17.0,>=0.7.0 in c:\\users\\acer\\appdata\\local\\packages\\pythonsoftwarefoundation.python.3.11_qbz5n2kfra8p0\\localcache\\local-packages\\python311\\site-packages (from weasel<0.4.0,>=0.1.0->spacy) (0.16.0)\n",
      "Requirement already satisfied: MarkupSafe>=2.0 in c:\\users\\acer\\appdata\\local\\packages\\pythonsoftwarefoundation.python.3.11_qbz5n2kfra8p0\\localcache\\local-packages\\python311\\site-packages (from jinja2->spacy) (2.1.4)\n"
     ]
    },
    {
     "name": "stderr",
     "output_type": "stream",
     "text": [
      "\n",
      "[notice] A new release of pip is available: 23.2.1 -> 24.0\n",
      "[notice] To update, run: C:\\Users\\Acer\\AppData\\Local\\Microsoft\\WindowsApps\\PythonSoftwareFoundation.Python.3.11_qbz5n2kfra8p0\\python.exe -m pip install --upgrade pip\n"
     ]
    }
   ],
   "source": [
    "!pip install spacy"
   ]
  },
  {
   "cell_type": "code",
   "execution_count": 19,
   "id": "2f28920b",
   "metadata": {},
   "outputs": [
    {
     "name": "stdout",
     "output_type": "stream",
     "text": [
      "Original Review: The movie was fantastic! The acting was superb and the plot was engaging.\n",
      "Review after Lemmatization: the movie be fantastic ! the acting be superb and the plot be engaging .\n"
     ]
    }
   ],
   "source": [
    "import spacy\n",
    "\n",
    "# Load the English language model\n",
    "nlp = spacy.load(\"en_core_web_sm\")\n",
    "\n",
    "# Sample review\n",
    "review = \"The movie was fantastic! The acting was superb and the plot was engaging.\"\n",
    "\n",
    "# Process the review using SpaCy\n",
    "doc = nlp(review)\n",
    "\n",
    "# Lemmatize each token in the review\n",
    "lemmatized_review = ' '.join([token.lemma_ for token in doc])\n",
    "\n",
    "# Print the original and lemmatized review\n",
    "print(\"Original Review:\", review)\n",
    "print(\"Review after Lemmatization:\", lemmatized_review)\n"
   ]
  },
  {
   "cell_type": "code",
   "execution_count": 20,
   "id": "0f6b7a47",
   "metadata": {},
   "outputs": [
    {
     "name": "stdout",
     "output_type": "stream",
     "text": [
      "Original Review: The movie was fantastic! The acting was superb and the plot was engaging. 10/10 would recommend.\n",
      "Review after Removing Numeric Characters: The movie was fantastic! The acting was superb and the plot was engaging. / would recommend.\n"
     ]
    }
   ],
   "source": [
    "# Sample review\n",
    "review = \"The movie was fantastic! The acting was superb and the plot was engaging. 10/10 would recommend.\"\n",
    "\n",
    "# Remove numeric characters from the review\n",
    "cleaned_review = ''.join([char for char in review if not char.isdigit()])\n",
    "\n",
    "# Print the original and cleaned review\n",
    "print(\"Original Review:\", review)\n",
    "print(\"Review after Removing Numeric Characters:\", cleaned_review)"
   ]
  },
  {
   "cell_type": "code",
   "execution_count": 21,
   "id": "55abf473",
   "metadata": {},
   "outputs": [
    {
     "name": "stdout",
     "output_type": "stream",
     "text": [
      "Original Review: I can't believe they won't show up tonight.\n",
      "Review after Handling Contractions: I cannot believe they will not show up tonight.\n"
     ]
    }
   ],
   "source": [
    "# Sample review\n",
    "review = \"I can't believe they won't show up tonight.\"\n",
    "\n",
    "# Define a dictionary of common English contractions and their expanded forms\n",
    "contractions = {\n",
    "    \"can't\": \"cannot\",\n",
    "    \"won't\": \"will not\",\n",
    "    # Add more contractions and their expanded forms as needed\n",
    "}\n",
    "\n",
    "# Function to handle contractions\n",
    "def expand_contractions(review, contractions):\n",
    "    for contraction, expansion in contractions.items():\n",
    "        review = review.replace(contraction, expansion)\n",
    "    return review\n",
    "\n",
    "# Apply handling contractions to the sample review\n",
    "expanded_review = expand_contractions(review, contractions)\n",
    "\n",
    "# Print the original and expanded review\n",
    "print(\"Original Review:\", review)\n",
    "print(\"Review after Handling Contractions:\", expanded_review)\n"
   ]
  },
  {
   "cell_type": "code",
   "execution_count": 22,
   "id": "8ee406aa",
   "metadata": {},
   "outputs": [
    {
     "name": "stdout",
     "output_type": "stream",
     "text": [
      "Original Review: <p>The movie <b>was</b> fantastic! <i>The</i> acting was superb and the plot was engaging.</p>\n",
      "Review after Removing HTML Tags: The movie was fantastic! The acting was superb and the plot was engaging.\n"
     ]
    }
   ],
   "source": [
    "import re\n",
    "\n",
    "# Sample review with HTML tags\n",
    "review = \"<p>The movie <b>was</b> fantastic! <i>The</i> acting was superb and the plot was engaging.</p>\"\n",
    "\n",
    "# Function to remove HTML tags\n",
    "def remove_html_tags(review):\n",
    "    clean_review = re.sub(r'<[^>]+>', '', review)\n",
    "    return clean_review\n",
    "\n",
    "# Apply removing HTML tags to the sample review\n",
    "cleaned_review = remove_html_tags(review)\n",
    "\n",
    "# Print the original and cleaned review\n",
    "print(\"Original Review:\", review)\n",
    "print(\"Review after Removing HTML Tags:\", cleaned_review)\n"
   ]
  },
  {
   "cell_type": "code",
   "execution_count": 23,
   "id": "e0e95558",
   "metadata": {},
   "outputs": [
    {
     "name": "stdout",
     "output_type": "stream",
     "text": [
      "Original Review: The movie was fantastic! The acting was superb, and the plot was engaging. 😊🎬\n",
      "Review after Handling Special Characters and Symbols: The movie was fantastic The acting was superb and the plot was engaging \n"
     ]
    }
   ],
   "source": [
    "import re\n",
    "\n",
    "# Sample review with special characters and symbols\n",
    "review = \"The movie was fantastic! The acting was superb, and the plot was engaging. 😊🎬\"\n",
    "\n",
    "# Function to handle special characters and symbols\n",
    "def handle_special_characters(review):\n",
    "    # Remove non-alphanumeric characters and whitespace\n",
    "    cleaned_review = re.sub(r'[^a-zA-Z0-9\\s]', '', review)\n",
    "    return cleaned_review\n",
    "\n",
    "# Apply handling special characters and symbols to the sample review\n",
    "cleaned_review = handle_special_characters(review)\n",
    "\n",
    "# Print the original and cleaned review\n",
    "print(\"Original Review:\", review)\n",
    "print(\"Review after Handling Special Characters and Symbols:\", cleaned_review)\n"
   ]
  },
  {
   "cell_type": "code",
   "execution_count": 24,
   "id": "e529b57b",
   "metadata": {},
   "outputs": [
    {
     "name": "stdout",
     "output_type": "stream",
     "text": [
      "Original Review: Thé mõvie wàs fántástic! The àcting wás superb, and the plot was engaging.\n",
      "Review after Normalization: The movie was fantastic! The acting was superb, and the plot was engaging.\n"
     ]
    }
   ],
   "source": [
    "import unicodedata\n",
    "\n",
    "# Sample review with accented characters\n",
    "review = \"Thé mõvie wàs fántástic! The àcting wás superb, and the plot was engaging.\"\n",
    "\n",
    "# Function to normalize text\n",
    "def normalize_text(review):\n",
    "    # Normalize accented characters to ASCII equivalents\n",
    "    normalized_review = unicodedata.normalize('NFKD', review).encode('ascii', 'ignore').decode('utf-8')\n",
    "    return normalized_review\n",
    "\n",
    "# Apply normalization to the sample review\n",
    "normalized_review = normalize_text(review)\n",
    "\n",
    "# Print the original and normalized review\n",
    "print(\"Original Review:\", review)\n",
    "print(\"Review after Normalization:\", normalized_review)\n"
   ]
  },
  {
   "cell_type": "code",
   "execution_count": 25,
   "id": "d31427ef",
   "metadata": {},
   "outputs": [
    {
     "name": "stdout",
     "output_type": "stream",
     "text": [
      "Original Review: The movi was fantastic! The actng was superb and the plot was engaging.\n",
      "Review after Handling Rare Words or Typos: The <UNK> was <UNK> The <UNK> was <UNK> <UNK> <UNK> <UNK> was <UNK>\n"
     ]
    }
   ],
   "source": [
    "from collections import Counter\n",
    "\n",
    "# Sample review with rare words or typos\n",
    "review = \"The movi was fantastic! The actng was superb and the plot was engaging.\"\n",
    "\n",
    "# Function to handle rare words or typos\n",
    "def handle_rare_words(review, threshold=1):\n",
    "    # Tokenize the review\n",
    "    tokens = review.split()\n",
    "    \n",
    "    # Count the frequency of each word\n",
    "    word_counts = Counter(tokens)\n",
    "    \n",
    "    # Identify rare words (occurring less than threshold times)\n",
    "    rare_words = [word for word, count in word_counts.items() if count <= threshold]\n",
    "    \n",
    "    # Replace rare words with a placeholder (e.g., '<UNK>')\n",
    "    cleaned_review = ' '.join(['<UNK>' if word in rare_words else word for word in tokens])\n",
    "    \n",
    "    return cleaned_review\n",
    "\n",
    "# Apply handling rare words or typos to the sample review\n",
    "cleaned_review = handle_rare_words(review)\n",
    "\n",
    "# Print the original and cleaned review\n",
    "print(\"Original Review:\", review)\n",
    "print(\"Review after Handling Rare Words or Typos:\", cleaned_review)\n"
   ]
  },
  {
   "cell_type": "code",
   "execution_count": 26,
   "id": "a61a4d5a",
   "metadata": {},
   "outputs": [
    {
     "name": "stdout",
     "output_type": "stream",
     "text": [
      "Feature Engineering Result:\n",
      "acting: 0.2\n",
      "and: 0.2\n",
      "engaging: 0.2\n",
      "fantastic: 0.2\n",
      "movie: 0.2\n",
      "plot: 0.2\n",
      "superb: 0.2\n",
      "the: 0.6\n",
      "was: 0.6\n"
     ]
    }
   ],
   "source": [
    "from sklearn.feature_extraction.text import TfidfVectorizer\n",
    "import numpy as np\n",
    "\n",
    "# Sample review\n",
    "review = \"The movie was fantastic! The acting was superb and the plot was engaging.\"\n",
    "\n",
    "# Define a TF-IDF vectorizer\n",
    "vectorizer = TfidfVectorizer()\n",
    "\n",
    "# Fit the vectorizer to the review and transform it into a TF-IDF matrix\n",
    "tfidf_matrix = vectorizer.fit_transform([review])\n",
    "\n",
    "# Convert the TF-IDF matrix to a dense array\n",
    "dense_tfidf_matrix = tfidf_matrix.toarray()\n",
    "\n",
    "# Extract features from the TF-IDF matrix\n",
    "features = vectorizer.get_feature_names_out()\n",
    "\n",
    "# Convert the features and their corresponding TF-IDF values to a dictionary\n",
    "feature_tfidf_dict = dict(zip(features, dense_tfidf_matrix.flatten()))\n",
    "\n",
    "# Print the features and their TF-IDF values\n",
    "print(\"Feature Engineering Result:\")\n",
    "for feature, tfidf_value in feature_tfidf_dict.items():\n",
    "    print(f\"{feature}: {tfidf_value}\")\n"
   ]
  },
  {
   "cell_type": "code",
   "execution_count": null,
   "id": "1fdc989f",
   "metadata": {},
   "outputs": [],
   "source": []
  }
 ],
 "metadata": {
  "kernelspec": {
   "display_name": "Python 3 (ipykernel)",
   "language": "python",
   "name": "python3"
  },
  "language_info": {
   "codemirror_mode": {
    "name": "ipython",
    "version": 3
   },
   "file_extension": ".py",
   "mimetype": "text/x-python",
   "name": "python",
   "nbconvert_exporter": "python",
   "pygments_lexer": "ipython3",
   "version": "3.11.7"
  }
 },
 "nbformat": 4,
 "nbformat_minor": 5
}
